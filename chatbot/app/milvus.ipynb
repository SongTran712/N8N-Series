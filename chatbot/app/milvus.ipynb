{
 "cells": [
  {
   "cell_type": "code",
   "execution_count": null,
   "id": "3dcbd3cd",
   "metadata": {},
   "outputs": [],
   "source": [
    "!pip install pymilvus\n"
   ]
  },
  {
   "cell_type": "code",
   "execution_count": 62,
   "id": "f4932e56",
   "metadata": {},
   "outputs": [],
   "source": [
    "from pymilvus import connections\n",
    "\n",
    "connections.connect(\n",
    "  alias=\"default\", \n",
    "  host='localhost', \n",
    "  port='19530'\n",
    ")"
   ]
  },
  {
   "cell_type": "code",
   "execution_count": 63,
   "id": "a930e8bd",
   "metadata": {},
   "outputs": [],
   "source": [
    "from pymilvus import MilvusClient, DataType\n",
    "\n",
    "client = MilvusClient(uri = \"http://localhost:19530\")"
   ]
  },
  {
   "cell_type": "code",
   "execution_count": 15,
   "id": "96d27023",
   "metadata": {},
   "outputs": [
    {
     "data": {
      "text/plain": [
       "{'auto_id': True, 'description': '', 'fields': [{'name': 'id', 'description': '', 'type': <DataType.INT64: 5>, 'is_primary': True, 'auto_id': False}, {'name': 'embedding', 'description': '', 'type': <DataType.FLOAT_VECTOR: 101>, 'params': {'dim': 1536}}, {'name': 'name', 'description': '', 'type': <DataType.VARCHAR: 21>, 'params': {'max_length': 300}}, {'name': 'mota', 'description': '', 'type': <DataType.VARCHAR: 21>, 'params': {'max_length': 4000}}, {'name': 'catalog', 'description': '', 'type': <DataType.VARCHAR: 21>, 'params': {'max_length': 300}}], 'enable_dynamic_field': True}"
      ]
     },
     "execution_count": 15,
     "metadata": {},
     "output_type": "execute_result"
    }
   ],
   "source": [
    "from pymilvus import MilvusClient, DataType, FunctionType, Function\n",
    "\n",
    "schema = MilvusClient.create_schema(auto_id = True, enable_dynamic_field=True,)\n",
    "\n",
    "schema = MilvusClient.create_schema(\n",
    "    auto_id=True,\n",
    "    enable_dynamic_field=True,\n",
    ")\n",
    "\n",
    "# 3.2. Add fields to schema\n",
    "schema.add_field(field_name=\"id\", datatype=DataType.INT64, is_primary=True)\n",
    "schema.add_field(field_name=\"embedding\", datatype=DataType.FLOAT_VECTOR, dim=1536)\n",
    "schema.add_field(field_name=\"name\", datatype = DataType.VARCHAR, max_length = 300)\n",
    "schema.add_field(field_name=\"mota\", datatype = DataType.VARCHAR, max_length = 4000)\n",
    "schema.add_field(field_name = \"catalog\", datatype=DataType.VARCHAR, max_length = 300)"
   ]
  },
  {
   "cell_type": "code",
   "execution_count": 49,
   "id": "03843dea",
   "metadata": {},
   "outputs": [],
   "source": [
    "\n",
    "\n",
    "index_params = client.prepare_index_params()\n",
    "index_params.add_index(field_name= \"embedding\", index_type= \"IVF_FLAT\", \n",
    "                      metric_type=\"COSINE\",\n",
    "                       params = {\n",
    "                           \"nlist\":32,\n",
    "                           \"nprobe\": 4\n",
    "                       },\n",
    "                       mmap_enabled=True,\n",
    "                       )\n",
    "index_params.add_index(field_name = \"name\", index_type = \"AUTOINDEX\")\n",
    "index_params.add_index(field_name = \"mota\", index_type = \"AUTOINDEX\")\n",
    "index_params.add_index(field_name = \"catalog\", index_type=\"AUTOINDEX\")"
   ]
  },
  {
   "cell_type": "code",
   "execution_count": 52,
   "id": "c7a48595",
   "metadata": {},
   "outputs": [],
   "source": [
    "client.create_collection(\n",
    "    collection_name=\"products\",\n",
    "    schema=schema, index_params = index_params\n",
    ")"
   ]
  },
  {
   "cell_type": "code",
   "execution_count": 51,
   "id": "60d5684c",
   "metadata": {},
   "outputs": [],
   "source": [
    "client.drop_collection(collection_name = \"products\")"
   ]
  },
  {
   "cell_type": "code",
   "execution_count": null,
   "id": "969fdfed",
   "metadata": {},
   "outputs": [],
   "source": [
    "client.describe_collection(collection_name = \"products\")"
   ]
  },
  {
   "cell_type": "code",
   "execution_count": null,
   "id": "bae2fbaa",
   "metadata": {},
   "outputs": [],
   "source": [
    "from pymilvus import MilvusClient\n",
    "\n",
    "# Connect to Milvus\n",
    "client = MilvusClient(uri=\"http://localhost:19530\")\n",
    "\n",
    "# Replace with your actual collection name\n",
    "collection_name = \"products\"\n",
    "\n",
    "# Get all data (pagination may be necessary for large datasets)\n",
    "# You can retrieve specific fields, e.g., [\"id\", \"name\", \"embedding\"]\n",
    "results = client.query(\n",
    "    collection_name=collection_name,\n",
    "    filter=None,  # no filter means get all\n",
    "    output_fields=[\"*\"],  # fetch all fields,\n",
    "    limit =10\n",
    ")\n",
    "\n",
    "# Print all documents\n",
    "for item in results:\n",
    "    print(item)\n"
   ]
  },
  {
   "cell_type": "code",
   "execution_count": 34,
   "id": "8e341836",
   "metadata": {},
   "outputs": [],
   "source": [
    "client.drop_collection(collection_name = \"products\")"
   ]
  },
  {
   "cell_type": "code",
   "execution_count": null,
   "id": "aa929873",
   "metadata": {},
   "outputs": [],
   "source": [
    "client.describe_collection(collection_name = \"products\")"
   ]
  },
  {
   "cell_type": "code",
   "execution_count": 19,
   "id": "d98bd331",
   "metadata": {},
   "outputs": [],
   "source": [
    "import pandas as pd\n",
    "import numpy as np\n",
    "\n",
    "df = pd.read_csv('./my_n8n/products.csv')"
   ]
  },
  {
   "cell_type": "code",
   "execution_count": 20,
   "id": "e45ece99",
   "metadata": {},
   "outputs": [
    {
     "data": {
      "text/plain": [
       "Link sản phẩm          https://vifiba.vn/san-pham/bo-loc-nuoc-vifiba-...\n",
       "Hình                   https://e-website-s3.s3.ap-southeast-1.amazona...\n",
       "Tên                                  Bộ lọc nước VIFIBA x Sanbee Khử CLO\n",
       "Giá gốc                                                        600,000 đ\n",
       "Giá km                                                         429,000 đ\n",
       "Độ giảm giá                                                     GIẢM 28%\n",
       "Đánh giá                                                             5.0\n",
       "Đã bán                                                        Đã bán 185\n",
       "Nhóm sản phẩm                                               Vòi Lọc Nước\n",
       "Thông số kỹ thuật      Thương hiệu: VIFIBA x Sanbee\\nChất liệu vỏ: Nh...\n",
       "Mô tả sản phẩm         Mô tả sản phẩm\\n  ĐẶC ĐIỂM BỘ LỌC NƯỚC VIFIBA ...\n",
       "HDSD URL                                               No matching title\n",
       "HDSD TEXT                                                            NaN\n",
       "Chính sách bảo hành    \\nPhạm vị bảo hành:\\n\\n\\nSản phẩm được bảo hàn...\n",
       "Name: 0, dtype: object"
      ]
     },
     "execution_count": 20,
     "metadata": {},
     "output_type": "execute_result"
    }
   ],
   "source": [
    "df.iloc[0]"
   ]
  },
  {
   "cell_type": "code",
   "execution_count": 29,
   "id": "421cb171",
   "metadata": {},
   "outputs": [
    {
     "data": {
      "text/plain": [
       "'Bộ lọc nước VIFIBA x Sanbee Khử CLO'"
      ]
     },
     "execution_count": 29,
     "metadata": {},
     "output_type": "execute_result"
    }
   ],
   "source": [
    "df[\"Tên\"][0]"
   ]
  },
  {
   "cell_type": "code",
   "execution_count": null,
   "id": "0e000800",
   "metadata": {},
   "outputs": [],
   "source": [
    "from pymilvus import connections, Collection\n",
    "from openai import OpenAI\n",
    "from pymilvus import MilvusClient\n",
    "\n",
    "client = MilvusClient(uri=\"http://localhost:19530\")\n",
    "\n",
    "# OpenAI setup\n",
    "tokenizer = OpenAI(api_key=\"\")\n",
    "# Query\n",
    "query_text = \"nồi lẩu\"\n",
    "\n",
    "# Step 1: Embed query using OpenAI text-embedding-3-small\n",
    "response = tokenizer.embeddings.create(\n",
    "    model=\"text-embedding-3-small\",\n",
    "    input=query_text\n",
    ")\n",
    "\n",
    "query_vector = response.data[0].embedding  # length 1536\n",
    "\n"
   ]
  },
  {
   "cell_type": "code",
   "execution_count": null,
   "id": "a61c55dc",
   "metadata": {},
   "outputs": [],
   "source": [
    "for i in range(len(df)):\n",
    "    mota = f\"\"\"\n",
    "Tên: {df['Tên'][i]}\n",
    "Nhóm sản phẩm: {df['Nhóm sản phẩm'][i]}\n",
    "Mô tả sản phẩm: {df[\"Mô tả sản phẩm\"][i]}\n",
    "Thông số kỹ thuật: {df[\"Thông số kỹ thuật\"][i]}\n",
    "    \"\"\"\n",
    "    name = df[\"Tên\"][i]\n",
    "    catalog = df['Nhóm sản phẩm'][i]\n",
    "    embedding = tokenizer.embeddings.create(model = 'text-embedding-3-small', input = mota)\n",
    "    print(str(name))\n",
    "    result = {\n",
    "        \"name\": name,\n",
    "        \"catalog\": catalog,\n",
    "        \"mota\": mota,\n",
    "        \"embedding\" : embedding.data[0].embedding\n",
    "    }\n",
    "    client.insert(collection_name = \"products\", data = result)"
   ]
  },
  {
   "cell_type": "code",
   "execution_count": null,
   "id": "5e439340",
   "metadata": {},
   "outputs": [],
   "source": [
    "from pymilvus import connections, Collection\n",
    "from openai import OpenAI\n",
    "from pymilvus import MilvusClient\n",
    "\n",
    "client = MilvusClient(uri=\"http://localhost:19530\")\n",
    "\n",
    "# OpenAI setup\n",
    "tokenizer = OpenAI(api_key=\"\")\n",
    "# Query\n",
    "query_text = \"Tôi muốn mua nồi lẩu cho 2 anh em nhà tôi\"\n",
    "\n",
    "# Step 1: Embed query using OpenAI text-embedding-3-small\n",
    "response = tokenizer.embeddings.create(\n",
    "    model=\"text-embedding-3-small\",\n",
    "    input=query_text\n",
    ")\n",
    "\n",
    "query_vector = response.data[0].embedding  # length 1536\n",
    "\n"
   ]
  },
  {
   "cell_type": "code",
   "execution_count": null,
   "id": "84a8531c",
   "metadata": {},
   "outputs": [
    {
     "name": "stdout",
     "output_type": "stream",
     "text": [
      "[{'Tên': 'Nồi Lẩu 2 Ngăn KIDAI VIFIBA - Song Lẩu', 'Nhóm sản phẩm': 'Nồi Điện Đa Năng'}, {'Tên': 'Nồi Lẩu Hấp SAKI VIFIBA - Lẩu Hấp Vuông', 'Nhóm sản phẩm': 'Nồi Hấp Điện'}, {'Tên': 'Nồi Lẩu Hấp Điện Kachi Vifiba 15L - Bảo hành 25 Tháng', 'Nhóm sản phẩm': 'Nồi Điện Đa Năng'}]\n"
     ]
    }
   ],
   "source": [
    "results = client.search(\n",
    "    collection_name = \"products\",\n",
    "    data=[query_vector],\n",
    "    anns_field=\"embedding\",  # replace with your vector field name\n",
    "    # param={\"params\": {\"nprobe\": 10}},\n",
    "    limit=3,\n",
    "    search_params={\n",
    "        \"params\": {\n",
    "            \"radius\": 0.4,\n",
    "            # \"range_filter\": 0.6\n",
    "        }\n",
    "    },\n",
    "    output_fields=[\"name\", \"catalog\"]  # include any fields you want returned\n",
    ")\n",
    "\n",
    "# Step 3: Display results\n",
    "hits = []\n",
    "for i, hit in enumerate(results[0]):\n",
    "    name = hit.get('entity','').get('name','')\n",
    "    catalog = hit.get('entity','').get('catalog','')\n",
    "    output = {\n",
    "        \"name\":name,\n",
    "        \"category\": catalog\n",
    "    }\n",
    "    hits.append(output)\n",
    "print(hits)"
   ]
  },
  {
   "cell_type": "code",
   "execution_count": 2,
   "id": "c4ad88cc",
   "metadata": {},
   "outputs": [
    {
     "name": "stdout",
     "output_type": "stream",
     "text": [
      "Collecting boto3\n",
      "  Using cached boto3-1.39.3-py3-none-any.whl.metadata (6.6 kB)\n",
      "Collecting pdf2image\n",
      "  Downloading pdf2image-1.17.0-py3-none-any.whl.metadata (6.2 kB)\n",
      "Collecting botocore<1.40.0,>=1.39.3 (from boto3)\n",
      "  Downloading botocore-1.39.3-py3-none-any.whl.metadata (5.7 kB)\n",
      "Collecting jmespath<2.0.0,>=0.7.1 (from boto3)\n",
      "  Downloading jmespath-1.0.1-py3-none-any.whl.metadata (7.6 kB)\n",
      "Collecting s3transfer<0.14.0,>=0.13.0 (from boto3)\n",
      "  Downloading s3transfer-0.13.0-py3-none-any.whl.metadata (1.7 kB)\n",
      "Requirement already satisfied: pillow in /root/venv/lib/python3.12/site-packages (from pdf2image) (11.3.0)\n",
      "Requirement already satisfied: python-dateutil<3.0.0,>=2.1 in /root/venv/lib/python3.12/site-packages (from botocore<1.40.0,>=1.39.3->boto3) (2.9.0.post0)\n",
      "Requirement already satisfied: urllib3!=2.2.0,<3,>=1.25.4 in /root/venv/lib/python3.12/site-packages (from botocore<1.40.0,>=1.39.3->boto3) (2.5.0)\n",
      "Requirement already satisfied: six>=1.5 in /root/venv/lib/python3.12/site-packages (from python-dateutil<3.0.0,>=2.1->botocore<1.40.0,>=1.39.3->boto3) (1.17.0)\n",
      "Downloading boto3-1.39.3-py3-none-any.whl (139 kB)\n",
      "\u001b[2K   \u001b[90m━━━━━━━━━━━━━━━━━━━━━━━━━━━━━━━━━━━━━━━━\u001b[0m \u001b[32m139.9/139.9 kB\u001b[0m \u001b[31m2.6 MB/s\u001b[0m eta \u001b[36m0:00:00\u001b[0m \u001b[36m0:00:01\u001b[0m\n",
      "\u001b[?25hDownloading pdf2image-1.17.0-py3-none-any.whl (11 kB)\n",
      "Downloading botocore-1.39.3-py3-none-any.whl (13.8 MB)\n",
      "\u001b[2K   \u001b[90m━━━━━━━━━━━━━━━━━━━━━━━━━━━━━━━━━━━━━━━━\u001b[0m \u001b[32m13.8/13.8 MB\u001b[0m \u001b[31m59.7 MB/s\u001b[0m eta \u001b[36m0:00:00\u001b[0m:00:01\u001b[0m00:01\u001b[0m\n",
      "\u001b[?25hDownloading jmespath-1.0.1-py3-none-any.whl (20 kB)\n",
      "Downloading s3transfer-0.13.0-py3-none-any.whl (85 kB)\n",
      "\u001b[2K   \u001b[90m━━━━━━━━━━━━━━━━━━━━━━━━━━━━━━━━━━━━━━━━\u001b[0m \u001b[32m85.2/85.2 kB\u001b[0m \u001b[31m13.3 MB/s\u001b[0m eta \u001b[36m0:00:00\u001b[0m\n",
      "\u001b[?25hInstalling collected packages: pdf2image, jmespath, botocore, s3transfer, boto3\n",
      "Successfully installed boto3-1.39.3 botocore-1.39.3 jmespath-1.0.1 pdf2image-1.17.0 s3transfer-0.13.0\n"
     ]
    }
   ],
   "source": [
    "!pip install boto3 pdf2image"
   ]
  },
  {
   "cell_type": "code",
   "execution_count": 6,
   "id": "d23b9b4b",
   "metadata": {},
   "outputs": [
    {
     "name": "stdout",
     "output_type": "stream",
     "text": [
      "\u001b[31mERROR: Could not find a version that satisfies the requirement poppler (from versions: none)\u001b[0m\u001b[31m\n",
      "\u001b[0m\u001b[31mERROR: No matching distribution found for poppler\u001b[0m\u001b[31m\n",
      "\u001b[0m"
     ]
    }
   ],
   "source": [
    "!pip install poppler"
   ]
  }
 ],
 "metadata": {
  "kernelspec": {
   "display_name": "venv",
   "language": "python",
   "name": "python3"
  },
  "language_info": {
   "codemirror_mode": {
    "name": "ipython",
    "version": 3
   },
   "file_extension": ".py",
   "mimetype": "text/x-python",
   "name": "python",
   "nbconvert_exporter": "python",
   "pygments_lexer": "ipython3",
   "version": "3.12.3"
  }
 },
 "nbformat": 4,
 "nbformat_minor": 5
}
